{
 "cells": [
  {
   "cell_type": "code",
   "execution_count": 30,
   "metadata": {
    "scrolled": false
   },
   "outputs": [
    {
     "name": "stdout",
     "output_type": "stream",
     "text": [
      "SHAPE: (1, 2, 1, 2)\n",
      "Hamiltonian: \n",
      " [[[[-4.  0.]]\n",
      "\n",
      "  [[ 0. -4.]]]]\n",
      "SHAPE: (1, 2, 1, 2)\n",
      "Hamiltonian: \n",
      " [[[[-3.  0.]]\n",
      "\n",
      "  [[ 0. -3.]]]]\n",
      "SHAPE: (1, 2, 1, 2)\n",
      "Hamiltonian: \n",
      " [[[[-1.  0.]]\n",
      "\n",
      "  [[ 0. -1.]]]]\n",
      "SHAPE: (1, 2, 1, 2)\n",
      "Hamiltonian: \n",
      " [[[[0. 0.]]\n",
      "\n",
      "  [[0. 0.]]]]\n",
      "SHAPE: (1, 2, 1, 2)\n",
      "Hamiltonian: \n",
      " [[[[1. 0.]]\n",
      "\n",
      "  [[0. 1.]]]]\n",
      "SHAPE: (1, 2, 1, 2)\n",
      "Hamiltonian: \n",
      " [[[[3. 0.]]\n",
      "\n",
      "  [[0. 3.]]]]\n",
      "SHAPE: (1, 2, 1, 2)\n",
      "Hamiltonian: \n",
      " [[[[4. 0.]]\n",
      "\n",
      "  [[0. 4.]]]]\n",
      "SHAPE: (1, 2, 1, 2)\n",
      "Hamiltonian: \n",
      " [[[[2.82842712 0.        ]]\n",
      "\n",
      "  [[0.         2.82842712]]]]\n",
      "SHAPE: (1, 2, 1, 2)\n",
      "Hamiltonian: \n",
      " [[[[-2.4492936e-16  0.0000000e+00]]\n",
      "\n",
      "  [[ 0.0000000e+00 -2.4492936e-16]]]]\n",
      "SHAPE: (1, 2, 1, 2)\n",
      "Hamiltonian: \n",
      " [[[[-2.82842712  0.        ]]\n",
      "\n",
      "  [[ 0.         -2.82842712]]]]\n",
      "SHAPE: (1, 2, 1, 2)\n",
      "Hamiltonian: \n",
      " [[[[-4.  0.]]\n",
      "\n",
      "  [[ 0. -4.]]]]\n"
     ]
    },
    {
     "data": {
      "image/png": "[encoded data removed]",
      "text/plain": [
       "<Figure size 432x288 with 1 Axes>"
      ]
     },
     "metadata": {
      "needs_background": "light"
     },
     "output_type": "display_data"
    }
   ],
   "source": [
    "import numpy as np\n",
    "import pylab as plt \n",
    "\n",
    "from local_pythtb_NC import tb_model\n",
    "from local_pythtb_NC import wf_array\n",
    "\n",
    "two_pi=2*np.pi\n",
    "\n",
    "def get_model(t):\n",
    "    lat = [ [1.0, 0.0], [0.0, 1.0] ]\n",
    "    orb = [ [0.0, 0.0] ]\n",
    "    dimk=2; dimr=2\n",
    "    mymodel=tb_model(dimk, dimr, lat, orb, nspin=2)\n",
    "    \n",
    "    sz = np.array( [ 0, 0, 0, 1 ] )\n",
    "\n",
    "    mymodel.set_onsite([0])\n",
    "    mymodel.set_hop( t , 0, 0, [1,0])\n",
    "    mymodel.set_hop( t , 0, 0, [0,1])\n",
    "    #tp= 0.1*t\n",
    "    #mymodel.set_hop( tp*sz, 0, 0, [1,0] , mode='add' )\n",
    "    #mymodel.set_hop( tp*sz, 0, 0, [0,1] , mode='add' )\n",
    "    \n",
    "    return mymodel\n",
    "\n",
    "def get_ham(k_list, t):\n",
    "    k_list = 2*np.pi*np.array(k_list)\n",
    "    ham = np.zeros(len(k_list), dtype=float)\n",
    "    for ik, k in enumerate(k_list):\n",
    "        ham[ik] = -2*t*(np.cos(k[0])+np.cos(k[1]))\n",
    "    return ham\n",
    "\n",
    "def Bands(model):\n",
    "    path=[[0.,0.], [0.5, 0.],[0.5, 0.5],[0.,0.]]\n",
    "    label=['$\\Gamma$', 'X', 'M','$\\Gamma$']\n",
    "    (k_vec,k_dist,k_node)=model.k_path(path,11, report=False);\n",
    "    evals, evecs=model.solve_all(k_vec, eig_vectors=True)\n",
    "    \n",
    "    #plt.figure(1, figsize=(12, 3))\n",
    "    #plt.subplot(131)\n",
    "    for j in range(evals.shape[0]):\n",
    "        plt.plot(k_dist, evals[j])\n",
    "\n",
    "    for n in range(len(k_node)): plt.axvline(x=k_node[n],linewidth=0.5,ls=':', color='k')\n",
    "    plt.xticks(k_node, label, fontsize=18)\n",
    "    plt.xlim(k_node[0], k_node[-1])\n",
    "        \n",
    "    #plt.subplot(132)\n",
    "    #EneL = get_ham(k_vec, 1.)\n",
    "    #plt.plot(k_dist, EneL)\n",
    "    #for n in range(len(k_node)): plt.axvline(x=k_node[n],linewidth=0.5,ls=':', color='k')\n",
    "    #plt.xticks(k_node, label, fontsize=18)\n",
    "    #plt.xlim(k_node[0], k_node[-1])\n",
    "    \n",
    "    #plt.subplot(133)\n",
    "    \n",
    "    #plt.plot(k_dist, EneL-evals.flatten())\n",
    "    \n",
    "    \n",
    "t=-1.0\n",
    "model = get_model(t)\n",
    "#model.display()\n",
    "Bands(model)\n",
    "    "
   ]
  },
  {
   "cell_type": "code",
   "execution_count": 11,
   "metadata": {},
   "outputs": [
    {
     "name": "stdout",
     "output_type": "stream",
     "text": [
      "0.0\n"
     ]
    }
   ],
   "source": [
    "HH = np.zeros((5, 2, 2))\n",
    "\n",
    "print (HH[4,0,0])"
   ]
  },
  {
   "cell_type": "code",
   "execution_count": 31,
   "metadata": {},
   "outputs": [
    {
     "ename": "LinAlgError",
     "evalue": "Last 2 dimensions of the array must be square",
     "output_type": "error",
     "traceback": [
      "\u001b[0;31m---------------------------------------------------------------------------\u001b[0m",
      "\u001b[0;31mLinAlgError\u001b[0m                               Traceback (most recent call last)",
      "\u001b[0;32m<ipython-input-31-0a23b084a4a3>\u001b[0m in \u001b[0;36m<module>\u001b[0;34m\u001b[0m\n\u001b[1;32m     36\u001b[0m \u001b[0;34m\u001b[0m\u001b[0m\n\u001b[1;32m     37\u001b[0m \u001b[0;34m\u001b[0m\u001b[0m\n\u001b[0;32m---> 38\u001b[0;31m \u001b[0mBands_spin\u001b[0m\u001b[0;34m(\u001b[0m\u001b[0;34m)\u001b[0m\u001b[0;34m\u001b[0m\u001b[0;34m\u001b[0m\u001b[0m\n\u001b[0m\u001b[1;32m     39\u001b[0m \u001b[0;34m\u001b[0m\u001b[0m\n",
      "\u001b[0;32m<ipython-input-31-0a23b084a4a3>\u001b[0m in \u001b[0;36mBands_spin\u001b[0;34m()\u001b[0m\n\u001b[1;32m     30\u001b[0m     \u001b[0mEk\u001b[0m \u001b[0;34m=\u001b[0m \u001b[0mnp\u001b[0m\u001b[0;34m.\u001b[0m\u001b[0mzeros\u001b[0m\u001b[0;34m(\u001b[0m \u001b[0;34m(\u001b[0m\u001b[0mNk\u001b[0m\u001b[0;34m,\u001b[0m\u001b[0;36m2\u001b[0m\u001b[0;34m)\u001b[0m\u001b[0;34m,\u001b[0m \u001b[0mdtype\u001b[0m\u001b[0;34m=\u001b[0m\u001b[0mfloat\u001b[0m\u001b[0;34m)\u001b[0m\u001b[0;34m\u001b[0m\u001b[0;34m\u001b[0m\u001b[0m\n\u001b[1;32m     31\u001b[0m     \u001b[0;32mfor\u001b[0m \u001b[0mik\u001b[0m \u001b[0;32min\u001b[0m \u001b[0mrange\u001b[0m\u001b[0;34m(\u001b[0m\u001b[0mNk\u001b[0m\u001b[0;34m)\u001b[0m\u001b[0;34m:\u001b[0m\u001b[0;34m\u001b[0m\u001b[0;34m\u001b[0m\u001b[0m\n\u001b[0;32m---> 32\u001b[0;31m         \u001b[0mevals\u001b[0m\u001b[0;34m,\u001b[0m \u001b[0mevecs\u001b[0m \u001b[0;34m=\u001b[0m \u001b[0mnp\u001b[0m\u001b[0;34m.\u001b[0m\u001b[0mlinalg\u001b[0m\u001b[0;34m.\u001b[0m\u001b[0meig\u001b[0m\u001b[0;34m(\u001b[0m\u001b[0mH\u001b[0m\u001b[0;34m[\u001b[0m\u001b[0mik\u001b[0m\u001b[0;34m]\u001b[0m\u001b[0;34m)\u001b[0m\u001b[0;34m\u001b[0m\u001b[0;34m\u001b[0m\u001b[0m\n\u001b[0m\u001b[1;32m     33\u001b[0m         \u001b[0mEk\u001b[0m\u001b[0;34m[\u001b[0m\u001b[0mik\u001b[0m\u001b[0;34m,\u001b[0m\u001b[0;34m:\u001b[0m\u001b[0;34m]\u001b[0m \u001b[0;34m=\u001b[0m \u001b[0mevals\u001b[0m\u001b[0;34m\u001b[0m\u001b[0;34m\u001b[0m\u001b[0m\n\u001b[1;32m     34\u001b[0m     \u001b[0;32mfor\u001b[0m \u001b[0mi\u001b[0m \u001b[0;32min\u001b[0m \u001b[0mrange\u001b[0m\u001b[0;34m(\u001b[0m\u001b[0;36m2\u001b[0m\u001b[0;34m)\u001b[0m\u001b[0;34m:\u001b[0m\u001b[0;34m\u001b[0m\u001b[0;34m\u001b[0m\u001b[0m\n",
      "\u001b[0;32m<__array_function__ internals>\u001b[0m in \u001b[0;36meig\u001b[0;34m(*args, **kwargs)\u001b[0m\n",
      "\u001b[0;32m/usr/local/lib/python3.7/site-packages/numpy/linalg/linalg.py\u001b[0m in \u001b[0;36meig\u001b[0;34m(a)\u001b[0m\n\u001b[1;32m   1302\u001b[0m     \u001b[0ma\u001b[0m\u001b[0;34m,\u001b[0m \u001b[0mwrap\u001b[0m \u001b[0;34m=\u001b[0m \u001b[0m_makearray\u001b[0m\u001b[0;34m(\u001b[0m\u001b[0ma\u001b[0m\u001b[0;34m)\u001b[0m\u001b[0;34m\u001b[0m\u001b[0;34m\u001b[0m\u001b[0m\n\u001b[1;32m   1303\u001b[0m     \u001b[0m_assertRankAtLeast2\u001b[0m\u001b[0;34m(\u001b[0m\u001b[0ma\u001b[0m\u001b[0;34m)\u001b[0m\u001b[0;34m\u001b[0m\u001b[0;34m\u001b[0m\u001b[0m\n\u001b[0;32m-> 1304\u001b[0;31m     \u001b[0m_assertNdSquareness\u001b[0m\u001b[0;34m(\u001b[0m\u001b[0ma\u001b[0m\u001b[0;34m)\u001b[0m\u001b[0;34m\u001b[0m\u001b[0;34m\u001b[0m\u001b[0m\n\u001b[0m\u001b[1;32m   1305\u001b[0m     \u001b[0m_assertFinite\u001b[0m\u001b[0;34m(\u001b[0m\u001b[0ma\u001b[0m\u001b[0;34m)\u001b[0m\u001b[0;34m\u001b[0m\u001b[0;34m\u001b[0m\u001b[0m\n\u001b[1;32m   1306\u001b[0m     \u001b[0mt\u001b[0m\u001b[0;34m,\u001b[0m \u001b[0mresult_t\u001b[0m \u001b[0;34m=\u001b[0m \u001b[0m_commonType\u001b[0m\u001b[0;34m(\u001b[0m\u001b[0ma\u001b[0m\u001b[0;34m)\u001b[0m\u001b[0;34m\u001b[0m\u001b[0;34m\u001b[0m\u001b[0m\n",
      "\u001b[0;32m/usr/local/lib/python3.7/site-packages/numpy/linalg/linalg.py\u001b[0m in \u001b[0;36m_assertNdSquareness\u001b[0;34m(*arrays)\u001b[0m\n\u001b[1;32m    211\u001b[0m         \u001b[0mm\u001b[0m\u001b[0;34m,\u001b[0m \u001b[0mn\u001b[0m \u001b[0;34m=\u001b[0m \u001b[0ma\u001b[0m\u001b[0;34m.\u001b[0m\u001b[0mshape\u001b[0m\u001b[0;34m[\u001b[0m\u001b[0;34m-\u001b[0m\u001b[0;36m2\u001b[0m\u001b[0;34m:\u001b[0m\u001b[0;34m]\u001b[0m\u001b[0;34m\u001b[0m\u001b[0;34m\u001b[0m\u001b[0m\n\u001b[1;32m    212\u001b[0m         \u001b[0;32mif\u001b[0m \u001b[0mm\u001b[0m \u001b[0;34m!=\u001b[0m \u001b[0mn\u001b[0m\u001b[0;34m:\u001b[0m\u001b[0;34m\u001b[0m\u001b[0;34m\u001b[0m\u001b[0m\n\u001b[0;32m--> 213\u001b[0;31m             \u001b[0;32mraise\u001b[0m \u001b[0mLinAlgError\u001b[0m\u001b[0;34m(\u001b[0m\u001b[0;34m'Last 2 dimensions of the array must be square'\u001b[0m\u001b[0;34m)\u001b[0m\u001b[0;34m\u001b[0m\u001b[0;34m\u001b[0m\u001b[0m\n\u001b[0m\u001b[1;32m    214\u001b[0m \u001b[0;34m\u001b[0m\u001b[0m\n\u001b[1;32m    215\u001b[0m \u001b[0;32mdef\u001b[0m \u001b[0m_assertFinite\u001b[0m\u001b[0;34m(\u001b[0m\u001b[0;34m*\u001b[0m\u001b[0marrays\u001b[0m\u001b[0;34m)\u001b[0m\u001b[0;34m:\u001b[0m\u001b[0;34m\u001b[0m\u001b[0;34m\u001b[0m\u001b[0m\n",
      "\u001b[0;31mLinAlgError\u001b[0m: Last 2 dimensions of the array must be square"
     ]
    }
   ],
   "source": [
    "def get_ham_spin1(k_list, t=-1.):\n",
    "    k_list = 2*np.pi*np.array(k_list)\n",
    "    Nk = len(k_list)\n",
    "    ham = np.zeros( (Nk, 2, 2), dtype=float)\n",
    "    \n",
    "    for ik, k in enumerate(k_list):\n",
    "        for i in range(2):\n",
    "            ham[ik,i,i] = 2*t*(np.cos(k[0])+np.cos(k[1]))\n",
    "    return ham\n",
    "\n",
    "def get_ham_spin(k_list, t=-1.):\n",
    "    k_list = 2*np.pi*np.array(k_list)\n",
    "    Nk = len(k_list)\n",
    "    ham = np.zeros( (Nk, 1, 2, 1, 2), dtype=float)\n",
    "    for ik, k in enumerate(k_list):\n",
    "        ham[ik,:,0,:,0] = -2*t*(np.cos(k[0])+np.cos(k[1]))\n",
    "        ham[ik,:,1,:,1] = -2*t*(np.cos(k[0])+np.cos(k[1]))\n",
    "        #for i in range(2):\n",
    "        #    ham[ik,i,i] = -2*t*(np.cos(k[0])+np.cos(k[1]))\n",
    "    return ham\n",
    "\n",
    "from get_kpath import *\n",
    "\n",
    "def Bands_spin():\n",
    "    path = [ [0., 0.], [0.5, 0.0], [0.5, 0.5], [0., 0.] ]\n",
    "    Nk=41\n",
    "    (k_vec,k_dist,k_node) = get_kpts_2D(path, Nk, Print=False)\n",
    "    H = get_ham_spin(k_vec, t)\n",
    "    Ek = np.zeros( (Nk,2), dtype=float)\n",
    "    for ik in range(Nk):\n",
    "        evals, evecs = np.linalg.eig(H[ik])\n",
    "        Ek[ik,:] = evals\n",
    "    for i in range(2):\n",
    "        plt.plot(k_dist, Ek[:,i])\n",
    "        \n",
    "\n",
    "Bands_spin()\n",
    "    "
   ]
  },
  {
   "cell_type": "code",
   "execution_count": null,
   "metadata": {},
   "outputs": [],
   "source": []
  }
 ],
 "metadata": {
  "kernelspec": {
   "display_name": "Python 3",
   "language": "python",
   "name": "python3"
  },
  "language_info": {
   "codemirror_mode": {
    "name": "ipython",
    "version": 3
   },
   "file_extension": ".py",
   "mimetype": "text/x-python",
   "name": "python",
   "nbconvert_exporter": "python",
   "pygments_lexer": "ipython3",
   "version": "3.7.5"
  }
 },
 "nbformat": 4,
 "nbformat_minor": 2
}
